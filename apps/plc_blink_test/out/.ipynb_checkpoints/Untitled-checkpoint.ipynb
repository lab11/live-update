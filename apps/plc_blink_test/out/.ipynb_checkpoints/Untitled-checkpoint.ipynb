{
 "cells": [
  {
   "cell_type": "code",
   "execution_count": 13,
   "metadata": {
    "collapsed": false
   },
   "outputs": [
    {
     "name": "stdout",
     "output_type": "stream",
     "text": [
      "datapoints: 423\n",
      "[  0.   1.   2.   3.   4.   5.   6.   7.   8.   9.  10.  11.]\n",
      "[16 43 38 51 39 51 42 38 42 43 20]\n"
     ]
    },
    {
     "name": "stderr",
     "output_type": "stream",
     "text": [
      "/Applications/anaconda3/lib/python3.5/site-packages/matplotlib/figure.py:397: UserWarning: matplotlib is currently using a non-GUI backend, so cannot show the figure\n",
      "  \"matplotlib is currently using a non-GUI backend, \"\n"
     ]
    },
    {
     "data": {
      "image/png": "[encoded data removed]",
      "text/plain": [
       "<matplotlib.figure.Figure at 0x1204fd748>"
      ]
     },
     "metadata": {},
     "output_type": "display_data"
    }
   ],
   "source": [
    "%matplotlib inline\n",
    "import numpy as np\n",
    "import matplotlib.pyplot as plt \n",
    "import csv\n",
    "\n",
    "data = []\n",
    "with open(\"control_data.csv\") as cdata:\n",
    "    for row in csv.reader(cdata, delimiter=','):\n",
    "        data += [float(d) for d in row]\n",
    "\n",
    "# Building Histogram\n",
    "\n",
    "bins = np.linspace(0.0, 11.0, 12)\n",
    "\n",
    "cnt = len(data)\n",
    "print(\"datapoints:\", cnt, \"testing time:\", cnt*5.432)\n",
    "dhist, dbins = np.histogram(data, bins=bins)\n",
    "print(dbins)\n",
    "print(dhist)\n",
    "\n",
    "dhist = [d/cnt for d in dhist]\n",
    "\n",
    "fig, ax = plt.subplots(figsize=(6, 4))\n",
    "ax.stem(dbins[:-1], dhist, 'b', markerfmt='bo')\n",
    "ax.set_title(\"Distribution of Response Times (Control)\")\n",
    "ax.set_xlabel(\"Response Times (ms)\")\n",
    "ax.set_xlim(left=-1, right=11)\n",
    "ax.set_ylabel(\"Average\")\n",
    "ax.set_ylim(bottom=0, top=1)\n",
    "fig.show()"
   ]
  },
  {
   "cell_type": "code",
   "execution_count": null,
   "metadata": {
    "collapsed": true
   },
   "outputs": [],
   "source": []
  }
 ],
 "metadata": {
  "kernelspec": {
   "display_name": "Python [Root]",
   "language": "python",
   "name": "Python [Root]"
  },
  "language_info": {
   "codemirror_mode": {
    "name": "ipython",
    "version": 3
   },
   "file_extension": ".py",
   "mimetype": "text/x-python",
   "name": "python",
   "nbconvert_exporter": "python",
   "pygments_lexer": "ipython3",
   "version": "3.5.2"
  }
 },
 "nbformat": 4,
 "nbformat_minor": 2
}
