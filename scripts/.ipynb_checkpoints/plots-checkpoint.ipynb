{
 "cells": [
  {
   "cell_type": "code",
   "execution_count": 2,
   "metadata": {},
   "outputs": [],
   "source": [
    "%matplotlib inline\n",
    "import matplotlib.ticker as ticker\n",
    "import matplotlib.pyplot as plt\n",
    "\n",
    "import csv\n",
    "import copy\n"
   ]
  },
  {
   "cell_type": "code",
   "execution_count": 16,
   "metadata": {},
   "outputs": [
    {
     "ename": "FileNotFoundError",
     "evalue": "[Errno 2] No such file or directory: 'csvdata/temp1.csv'",
     "output_type": "error",
     "traceback": [
      "\u001b[0;31m---------------------------------------------------------------------------\u001b[0m",
      "\u001b[0;31mFileNotFoundError\u001b[0m                         Traceback (most recent call last)",
      "\u001b[0;32m<ipython-input-16-2e752bd7555a>\u001b[0m in \u001b[0;36m<module>\u001b[0;34m\u001b[0m\n\u001b[1;32m      2\u001b[0m \u001b[0;34m\u001b[0m\u001b[0m\n\u001b[1;32m      3\u001b[0m \u001b[0mclean_data\u001b[0m \u001b[0;34m=\u001b[0m \u001b[0;34m[\u001b[0m\u001b[0;34m[\u001b[0m\u001b[0;34m]\u001b[0m\u001b[0;34m,\u001b[0m\u001b[0;34m[\u001b[0m\u001b[0;34m]\u001b[0m\u001b[0;34m]\u001b[0m\u001b[0;34m\u001b[0m\u001b[0;34m\u001b[0m\u001b[0m\n\u001b[0;32m----> 4\u001b[0;31m \u001b[0;32mfor\u001b[0m \u001b[0mdata\u001b[0m \u001b[0;32min\u001b[0m \u001b[0mcsv\u001b[0m\u001b[0;34m.\u001b[0m\u001b[0mreader\u001b[0m\u001b[0;34m(\u001b[0m\u001b[0mopen\u001b[0m\u001b[0;34m(\u001b[0m\u001b[0;34m\"csvdata/temp1.csv\"\u001b[0m\u001b[0;34m)\u001b[0m\u001b[0;34m)\u001b[0m\u001b[0;34m:\u001b[0m\u001b[0;34m\u001b[0m\u001b[0;34m\u001b[0m\u001b[0m\n\u001b[0m\u001b[1;32m      5\u001b[0m     \u001b[0;32mif\u001b[0m \u001b[0mdata\u001b[0m\u001b[0;34m[\u001b[0m\u001b[0;36m0\u001b[0m\u001b[0;34m]\u001b[0m \u001b[0;34m!=\u001b[0m \u001b[0;34m'x'\u001b[0m\u001b[0;34m:\u001b[0m\u001b[0;34m\u001b[0m\u001b[0;34m\u001b[0m\u001b[0m\n\u001b[1;32m      6\u001b[0m         \u001b[0mclean_data\u001b[0m\u001b[0;34m[\u001b[0m\u001b[0;36m0\u001b[0m\u001b[0;34m]\u001b[0m \u001b[0;34m+=\u001b[0m \u001b[0;34m[\u001b[0m\u001b[0mfloat\u001b[0m\u001b[0;34m(\u001b[0m\u001b[0mdata\u001b[0m\u001b[0;34m[\u001b[0m\u001b[0;36m0\u001b[0m\u001b[0;34m]\u001b[0m\u001b[0;34m)\u001b[0m\u001b[0;34m]\u001b[0m\u001b[0;34m\u001b[0m\u001b[0;34m\u001b[0m\u001b[0m\n",
      "\u001b[0;31mFileNotFoundError\u001b[0m: [Errno 2] No such file or directory: 'csvdata/temp1.csv'"
     ]
    }
   ],
   "source": [
    "### DATA CLEANING ###\n",
    "\n",
    "clean_data = [[],[]]\n",
    "for data in csv.reader(open(\"csvdata/temp1.csv\")):\n",
    "    if data[0] != 'x':\n",
    "        clean_data[0] += [float(data[0])]\n",
    "\n",
    "for data in csv.reader(open(\"csvdata/temp2.csv\")):\n",
    "    if data[0] != 'x':\n",
    "        clean_data[1] += [float(data[0])]\n",
    "        \n",
    "# for data in csv.reader(open(\"csvdata/temp3.csv\")):\n",
    "#     if data[0] != 'x':\n",
    "#         clean_data[2] += [float(data[0])]\n",
    "        \n",
    "# for data in csv.reader(open(\"csvdata/temp4.csv\")):\n",
    "#     if data[0] != 'x':\n",
    "#         clean_data[3] += [float(data[0])]\n",
    "        \n",
    "# print(clean_data)\n",
    "\n",
    "with open('plc.csv', 'w', newline='') as csvfile:\n",
    "    datawriter = csv.writer(csvfile, delimiter=',',\n",
    "                            quotechar='\"', quoting=csv.QUOTE_MINIMAL)\n",
    "    datawriter.writerow(['Predicate Evaluation'] + clean_data[0])\n",
    "    datawriter.writerow(['State Transfer'] + clean_data[1])\n",
    "#     datawriter.writerow(['Update'] + clean_data[2])\n",
    "#     datawriter.writerow(['Update Splits'] + clean_data[3])"
   ]
  },
  {
   "cell_type": "code",
   "execution_count": 19,
   "metadata": {},
   "outputs": [
    {
     "name": "stdout",
     "output_type": "stream",
     "text": [
      "[[-149919.109375, -149916.234375, -149914.859375, -149914.5, -149918.390625, -149915.21875, -149918.03125, -149917.671875, -149916.65625, -149917.734375, -149914.84375, -149915.203125, -149917.3125, -149915.21875, -149916.28125, -149916.953125, -149917.3125, -149915.921875, -149914.5, -149916.28125], [307.0, 248.0, 280.0, 278.0, 311.0, 302.0, 248.0, 237.0, 354.0, 195.0, 324.0, 318.0, 4796.0, 269.0, 371.0, 209.0, 249.0, 255.0, 221.0, 309.0, 208.0, 255.0, 237.0, 302.0, 252.0, 239.0, 263.0, 260.0, 4790.0, 104.0, 291.0, 217.0, 262.0, 280.0, 198.0, 218.0, 268.0, 245.0, 261.0, 217.0, 185.0, 245.0, 228.0, 271.0, 4804.0, 245.0, 248.0, 251.0, 267.0, 217.0, 287.0, 269.0, 239.0, 213.0, 255.0, 254.0, 280.0, 224.0, 283.0, 249.0, 338.0, 4842.0, 183.0, 295.0, 282.0, 313.0, 242.0, 196.0, 189.0, 163.0, 161.0, 196.0, 107.0, 194.0, 254.0, 234.0, 280.0, 218.0, 4736.0, 190.0, 138.0, 271.0, 237.0, 254.0, 261.0, 191.0, 200.0, 260.0, 309.0, 268.0, 249.0, 315.0, 352.0, 281.0, 4802.0, 312.0, 435.0, 284.0, 255.0, 304.0, 255.0, 181.0, 250.0, 271.0, 262.0, 263.0, 223.0, 306.0, 292.0, 248.0, 262.0, 4839.0, 316.0, 384.0, 222.0, 289.0, 324.0, 282.0, 267.0, 246.0, 252.0, 147.0, 248.0, 332.0, 258.0, 283.0, 299.0, 309.0, 4873.0, 277.0, 283.0, 257.0, 279.0, 355.0, 361.0, 387.0, 368.0, 300.0, 260.0, 312.0, 268.0, 232.0, 348.0, 252.0, 4813.0, 194.0, 237.0, 211.0, 281.0, 268.0, 218.0, 297.0, 310.0, 300.0, 312.0, 248.0, 227.0, 153.0, 273.0, 233.0, 247.0, 4788.0, 179.0, 188.0, 295.0, 177.0, 191.0, 272.0, 215.0, 188.0, 248.0, 198.0, 354.0, 224.0, 220.0, 252.0, 273.0, 241.0, 4723.0, 175.0, 178.0, 300.0, 221.0, 285.0, 294.0, 240.0, 313.0, 202.0, 276.0, 149.0, 304.0, 222.0, 180.0, 242.0, 243.0, 4740.0, 270.0, 281.0, 297.0, 286.0, 270.0, 299.0, 220.0, 253.0, 329.0, 336.0, 335.0, 318.0, 283.0, 342.0, 291.0, 4767.0, 258.0, 226.0, 314.0, 342.0, 254.0, 379.0, 397.0, 300.0, 344.0, 244.0, 263.0, 254.0, 261.0, 249.0, 277.0, 4786.0, 203.0, 178.0, 225.0, 297.0, 144.0, 292.0, 174.0, 210.0, 274.0, 231.0, 239.0, 303.0, 276.0, 278.0, 267.0, 227.0, 239.0, 4843.0, 233.0, 285.0, 202.0, 258.0, 250.0, 152.0, 259.0, 183.0, 191.0, 246.0, 281.0, 253.0, 206.0, 266.0, 261.0, 4715.0, 188.0, 201.0, 227.0, 250.0, 209.0, 200.0, 234.0, 208.0, 196.0, 258.0, 249.0, 187.0, 143.0, 222.0, 185.0, 79.0, 4753.0, 168.0, 134.0, 163.0, 152.0, 292.0, 194.0, 202.0, 164.0, 216.0, 238.0, 113.0, 117.0, 206.0, 238.0, 200.0, 315.0, 4832.0, 296.0, 303.0, 344.0, 287.0, 266.0, 182.0, 340.0, 307.0, 245.0, 206.0, 155.0, 210.0, 260.0, 288.0, 236.0, 4814.0, 228.0, 225.0, 259.0, 215.0, 207.0, 210.0, 247.0, 175.0, 150.0, 215.0, 176.0, 149.0, 260.0, 173.0, 232.0, 280.0, 4833.0, 240.0, 133.0, 159.0, 184.0, 238.0, 210.0], [124.0, 198.0, 227.0, 354.0, 254.0, 248.0, 230.0, 253.0, 267.0, 154.0, 188.0, 215.0, 166.0, 297.0, 229.0, 312.0, 284.0, 279.0, 159.0, 266.0, 224.0, 323.0, 232.0, 284.0, 228.0, 264.0, 249.0, 215.0, 293.0, 189.0, 294.0, 285.0, 247.0, 327.0, 295.0, 293.0, 291.0, 304.0, 222.0, 141.0, 216.0, 219.0, 169.0, 211.0, 195.0, 214.0, 201.0, 174.0, 209.0, 217.0, 257.0, 315.0, 319.0, 288.0, 252.0, 220.0, 274.0, 193.0, 177.0, 196.0, 245.0, 220.0, 182.0, 167.0, 280.0, 173.0, 155.0, 125.0, 193.0, 218.0, 184.0, 253.0, 295.0, 268.0, 312.0, 250.0, 276.0, 293.0, 303.0, 347.0, 251.0, 256.0, 253.0, 301.0, 237.0, 336.0, 284.0, 283.0, 302.0, 270.0, 247.0, 255.0, 300.0, 243.0, 382.0, 294.0, 172.0, 271.0, 303.0, 261.0, 275.0, 287.0, 247.0, 135.0, 182.0, 190.0, 166.0, 236.0, 150.0, 201.0, 124.0, 132.0, 167.0, 219.0, 183.0, 268.0, 176.0, 312.0, 163.0, 169.0, 131.0, 104.0, 190.0, 246.0, 177.0, 219.0, 235.0, 309.0, 154.0, 180.0, 263.0, 214.0, 215.0, 198.0, 187.0, 245.0, 176.0, 183.0, 196.0, 220.0, 260.0, 226.0, 223.0, 170.0, 210.0, 194.0, 217.0, 153.0, 254.0, 270.0, 220.0, 154.0, 257.0, 157.0, 178.0, 294.0, 208.0, 230.0, 225.0, 229.0, 228.0, 241.0, 230.0, 185.0, 146.0, 149.0, 161.0, 257.0, 150.0, 193.0, 195.0, 188.0, 205.0, 234.0, 196.0, 208.0, 254.0, 231.0, 253.0, 248.0, 250.0, 312.0, 247.0, 258.0, 205.0, 306.0, 181.0, 153.0, 214.0, 166.0, 202.0, 243.0, 160.0, 291.0, 299.0, 287.0, 343.0, 245.0, 268.0, 235.0, 232.0, 173.0, 182.0, 250.0, 159.0, 241.0, 281.0, 212.0, 186.0, 199.0, 190.0, 191.0, 246.0, 153.0, 210.0, 225.0, 276.0, 324.0, 275.0, 259.0, 275.0, 331.0, 253.0, 200.0, 250.0, 220.0, 200.0, 223.0, 280.0, 179.0, 238.0, 235.0, 305.0, 313.0, 311.0, 312.0, 240.0, 174.0, 315.0, 295.0, 288.0, 291.0, 212.0, 252.0, 287.0, 127.0, 227.0, 205.0, 119.0, 247.0, 250.0, 189.0, 184.0, 212.0, 129.0, 181.0, 301.0, 225.0, 223.0, 176.0, 250.0, 273.0, 235.0, 271.0, 309.0, 287.0, 262.0], [218.0, 202.0, 258.0, 233.0, 241.0, 224.0, 207.0, 264.0, 162.0, 246.0, 300.0, 276.0, 332.0, 272.0, 279.0, 309.0, 295.0, 331.0, 265.0, 256.0, 323.0, 319.0, 365.0, 330.0, 295.0, 337.0, 346.0, 388.0, 390.0, 210.0, 331.0, 293.0, 282.0, 310.0, 254.0, 334.0, 345.0, 346.0, 364.0, 331.0, 279.0, 286.0, 287.0, 366.0, 343.0, 298.0, 351.0, 367.0, 346.0, 373.0, 382.0, 430.0, 398.0, 384.0, 408.0, 385.0, 378.0, 333.0, 403.0, 370.0, 274.0, 344.0, 387.0, 370.0, 344.0, 342.0, 380.0, 379.0, 362.0, 435.0, 382.0, 401.0, 347.0, 388.0, 339.0, 321.0, 428.0, 337.0, 378.0, 321.0, 345.0, 314.0, 310.0, 238.0, 264.0, 338.0, 229.0, 265.0, 258.0, 255.0, 250.0, 364.0, 289.0, 208.0, 324.0, 310.0, 293.0, 242.0, 188.0, 251.0, 224.0, 211.0, 310.0, 264.0, 295.0, 281.0, 338.0, 356.0, 315.0, 307.0, 282.0, 315.0, 291.0, 259.0, 240.0, 183.0, 324.0, 207.0, 150.0, 186.0, 202.0, 206.0, 200.0, 202.0, 134.0, 314.0, 196.0, 210.0, 282.0, 186.0, 179.0, 207.0, 245.0, 344.0, 166.0, 235.0, 224.0, 143.0, 96.0, 115.0, 99.0, 163.0, 228.0, 225.0, 242.0, 245.0, 107.0, 163.0, 202.0, 115.0, 246.0, 195.0, 257.0, 220.0, 259.0, 240.0, 219.0, 224.0, 160.0, 183.0, 284.0, 210.0, 230.0, 311.0, 256.0, 306.0, 299.0, 247.0, 280.0, 216.0, 241.0, 230.0, 172.0, 295.0, 245.0, 290.0, 289.0, 281.0, 287.0, 162.0, 314.0, 179.0, 214.0, 188.0, 224.0, 159.0, 170.0, 189.0, 198.0, 205.0, 198.0, 272.0, 240.0, 297.0, 138.0, 167.0, 197.0, 188.0, 165.0, 212.0, 163.0, 200.0, 165.0, 117.0, 144.0, 205.0, 265.0, 202.0, 202.0, 170.0, 192.0, 91.0, 231.0, 147.0, 170.0, 144.0, 139.0, 179.0, 163.0, 181.0, 131.0, 138.0, 212.0, 200.0, 204.0, 206.0, 176.0, 226.0, 161.0, 53.0, 144.0, 164.0, 74.0, 74.0, 227.0, 178.0, 183.0, 180.0, 179.0, 214.0, 162.0, 158.0, 174.0, 239.0, 164.0, 194.0, 278.0, 144.0, 190.0, 220.0, 268.0, 168.0, 230.0, 187.0, 285.0, 244.0, 220.0, 314.0, 239.0, 277.0, 259.0, 213.0, 229.0, 244.0, 261.0, 147.0, 169.0, 232.0]]\n",
      "['Update Splits', 'Update', 'Predicate Only', 'No Update']\n"
     ]
    }
   ],
   "source": [
    "pace_data = []\n",
    "data_labels = []\n",
    "with open('csvdata/pacemaker.csv', 'r') as file:\n",
    "    for row in csv.reader(file):\n",
    "        data_labels += [row[0]]\n",
    "        pace_data += [[float(d) - 150000 for d in row[1:]]]\n",
    "\n",
    "pace_data.reverse()\n",
    "data_labels.reverse()\n",
    "\n",
    "up_splits_data = [d + 150000 for d in pace_data[0]]\n",
    "# pace_data = np.array(pace_data)\n",
    "print(pace_data)\n",
    "print(data_labels)"
   ]
  },
  {
   "cell_type": "code",
   "execution_count": 18,
   "metadata": {},
   "outputs": [
    {
     "name": "stderr",
     "output_type": "stream",
     "text": [
      "/Users/jlwatson/miniconda3/lib/python3.6/site-packages/ipykernel_launcher.py:32: UserWarning: Matplotlib is currently using module://ipykernel.pylab.backend_inline, which is a non-GUI backend, so cannot show the figure.\n"
     ]
    },
    {
     "data": {
      "image/png": "[encoded data removed]",
      "text/plain": [
       "<Figure size 468x288 with 1 Axes>"
      ]
     },
     "metadata": {
      "needs_background": "light"
     },
     "output_type": "display_data"
    }
   ],
   "source": [
    "x = [50*i for i in range(1,10)]\n",
    "\n",
    "medianprops = dict(linestyle='-', linewidth=2.5, color='black')\n",
    "\n",
    "fig1, ax1 = plt.subplots(figsize=(6.5,4))\n",
    "\n",
    "bwplot_update = ax1.boxplot(pace_data[1:],\n",
    "                            vert=False,\n",
    "#                             patch_artist=True,\n",
    "                            labels=data_labels[1:],\n",
    "                            showfliers=False,\n",
    "                            medianprops=medianprops)\n",
    "ax1.set_xticks(x)\n",
    "\n",
    "ax1.set_title('Pacemaker Response Time Distribution')\n",
    "ax1.set_xlabel('Response Time (us) +150ms')\n",
    "\n",
    "ax1.set_xlim(50, 450)\n",
    "# ax1.xaxis.grid(True)\n",
    "\n",
    "# colors = ['lightgrey', 'lightgrey', 'lightgrey']\n",
    "\n",
    "# for patch, color in zip(bwplot_update['boxes'], colors):\n",
    "#     patch.set_facecolor(color)\n",
    "\n",
    "# for tick in ax1.xaxis.get_major_ticks():\n",
    "#     tick.tick1line.set_markersize(5)\n",
    "#     tick.tick2line.set_markersize(5)\n",
    "\n",
    "# ax1.set_yticklabels(data_labels[1:], rotation=60)\n",
    "fig1.tight_layout()\n",
    "fig1.show()\n",
    "\n",
    "fig1.savefig('PacemakerResponseDistribution_Update.png', dpi=150)"
   ]
  },
  {
   "cell_type": "code",
   "execution_count": 15,
   "metadata": {},
   "outputs": [
    {
     "ename": "NameError",
     "evalue": "name 'up_splits_data' is not defined",
     "output_type": "error",
     "traceback": [
      "\u001b[0;31m---------------------------------------------------------------------------\u001b[0m",
      "\u001b[0;31mNameError\u001b[0m                                 Traceback (most recent call last)",
      "\u001b[0;32m<ipython-input-15-570fbef37710>\u001b[0m in \u001b[0;36m<module>\u001b[0;34m\u001b[0m\n\u001b[1;32m      5\u001b[0m \u001b[0mfig2\u001b[0m\u001b[0;34m,\u001b[0m \u001b[0max2\u001b[0m \u001b[0;34m=\u001b[0m \u001b[0mplt\u001b[0m\u001b[0;34m.\u001b[0m\u001b[0msubplots\u001b[0m\u001b[0;34m(\u001b[0m\u001b[0mfigsize\u001b[0m\u001b[0;34m=\u001b[0m\u001b[0;34m(\u001b[0m\u001b[0;36m6.5\u001b[0m\u001b[0;34m,\u001b[0m\u001b[0;36m4\u001b[0m\u001b[0;34m)\u001b[0m\u001b[0;34m)\u001b[0m\u001b[0;34m\u001b[0m\u001b[0;34m\u001b[0m\u001b[0m\n\u001b[1;32m      6\u001b[0m \u001b[0;34m\u001b[0m\u001b[0m\n\u001b[0;32m----> 7\u001b[0;31m bwplot_update = ax2.boxplot(up_splits_data,\n\u001b[0m\u001b[1;32m      8\u001b[0m                             \u001b[0mvert\u001b[0m\u001b[0;34m=\u001b[0m\u001b[0;32mFalse\u001b[0m\u001b[0;34m,\u001b[0m\u001b[0;34m\u001b[0m\u001b[0;34m\u001b[0m\u001b[0m\n\u001b[1;32m      9\u001b[0m \u001b[0;31m#                             patch_artist=True,\u001b[0m\u001b[0;34m\u001b[0m\u001b[0;34m\u001b[0m\u001b[0;34m\u001b[0m\u001b[0m\n",
      "\u001b[0;31mNameError\u001b[0m: name 'up_splits_data' is not defined"
     ]
    },
    {
     "data": {
      "image/png": "[encoded data removed]",
      "text/plain": [
       "<Figure size 468x288 with 1 Axes>"
      ]
     },
     "metadata": {
      "needs_background": "light"
     },
     "output_type": "display_data"
    }
   ],
   "source": [
    "# x = [50*i for i in range(1,10)]\n",
    "\n",
    "medianprops = dict(linestyle='-', linewidth=2.5, color='black')\n",
    "\n",
    "fig2, ax2 = plt.subplots(figsize=(6.5,4))\n",
    "\n",
    "bwplot_update = ax2.boxplot(up_splits_data,\n",
    "                            vert=False,\n",
    "#                             patch_artist=True,\n",
    "                            labels=[data_labels[0]],\n",
    "                            showfliers=False,\n",
    "                            medianprops=medianprops)\n",
    "# ax2.set_xticks(x)\n",
    "\n",
    "ax2.set_title('Pacemaker Response Time Distribution')\n",
    "ax2.set_xlabel('Response Time (us)')\n",
    "\n",
    "ax2.set_xlim(80, 86)\n",
    "\n",
    "# ax2.xaxis.grid(True)\n",
    "\n",
    "# colors = ['lightgrey', 'lightgrey', 'lightgrey']\n",
    "\n",
    "# for patch, color in zip(bwplot_update['boxes'], colors):\n",
    "#     patch.set_facecolor(color)\n",
    "\n",
    "# for tick in ax2.xaxis.get_major_ticks():\n",
    "#     tick.tick1line.set_markersize(5)\n",
    "#     tick.tick2line.set_markersize(5)\n",
    "fig2.tight_layout()\n",
    "fig2.show()\n",
    "\n",
    "fig2.savefig('PacemakerResponseDistribution_Splits.png', dpi=150)"
   ]
  },
  {
   "cell_type": "code",
   "execution_count": 7,
   "metadata": {},
   "outputs": [],
   "source": [
    "plc_data = []\n",
    "plc_labels = []\n",
    "with open('csvdata/plc.csv', 'r') as file:\n",
    "    for row in csv.reader(file):\n",
    "        plc_labels += [row[0]]\n",
    "        plc_data += [[float(d) for d in row[1:]]]\n",
    "\n",
    "plc_data.reverse()\n",
    "plc_labels.reverse()\n",
    "\n",
    "# plc_data = np.array(pace_data)\n",
    "# print(plc_data)\n",
    "# print(plc_labels)"
   ]
  },
  {
   "cell_type": "code",
   "execution_count": 12,
   "metadata": {},
   "outputs": [
    {
     "name": "stderr",
     "output_type": "stream",
     "text": [
      "/Users/rtsang/anaconda3/lib/python3.7/site-packages/ipykernel_launcher.py:29: UserWarning: Matplotlib is currently using module://ipykernel.pylab.backend_inline, which is a non-GUI backend, so cannot show the figure.\n"
     ]
    },
    {
     "data": {
      "image/png": "[encoded data removed]",
      "text/plain": [
       "<Figure size 468x288 with 1 Axes>"
      ]
     },
     "metadata": {
      "needs_background": "light"
     },
     "output_type": "display_data"
    }
   ],
   "source": [
    "medianprops = dict(linestyle='-', linewidth=2.5, color='black')\n",
    "\n",
    "fig1, ax1 = plt.subplots(figsize=(6.5,4))\n",
    "\n",
    "bwplot_update = ax1.boxplot(plc_data[1],\n",
    "                            vert=False,\n",
    "#                             patch_artist=True,\n",
    "                            labels=[plc_labels[1]],\n",
    "                            showfliers=False,\n",
    "                            medianprops=medianprops)\n",
    "\n",
    "ax1.set_title('PLC Predicate and Transfer Evaluation')\n",
    "ax1.set_xlabel('Execution Time (us)')\n",
    "\n",
    "ax1.set_xlim(2.5, 6.5)\n",
    "# ax1.xaxis.grid(True)\n",
    "\n",
    "# colors = ['lightgrey', 'lightgrey', 'lightgrey']\n",
    "\n",
    "# for patch, color in zip(bwplot_update['boxes'], colors):\n",
    "#     patch.set_facecolor(color)\n",
    "\n",
    "# for tick in ax1.xaxis.get_major_ticks():\n",
    "#     tick.tick1line.set_markersize(5)\n",
    "#     tick.tick2line.set_markersize(5)\n",
    "\n",
    "# ax1.set_yticklabels(data_labels[1:], rotation=60)\n",
    "fig1.tight_layout()\n",
    "fig1.show()\n",
    "\n",
    "fig1.savefig('PLCPredicate_TransferEvaluation.png', dpi=150)"
   ]
  },
  {
   "cell_type": "code",
   "execution_count": 28,
   "metadata": {},
   "outputs": [
    {
     "name": "stdout",
     "output_type": "stream",
     "text": [
      "[[5.638062, 5.302875, 0.980937, 178.330505, 8.209188, 4.6595, 5.996375, 5.338687, 6.648, 7.497313, 4.874875, 7.4325, 4.818438, 1.578, 3.972812, 1.552063, 5.095687, 35.215313, 2.696312, 9.514688, 5.135125, 3.239625, 5.016125, 1.10275, 9.272813, 2.896, 1.383312, 1.299813, 8.311625, 6.735125, 9.163438, 79.421188, 4.538063, 1.659875, 4.064, 8.572187, 3.456875, 2.427687, 8.55975, 6.462875, 5.462, 4.022313, 1.576313, 7.91875, 6.946375, 581.818726, 7.542937, 4.878687, 0.302563, 9.5965, 464.237244, 9.477938, 9.703, 8.737125, 7.685312, 2.362562, 9.421625, 1.462562, 9.355625, 8.762875, 6.263, 4.141438, 1.100813, 0.457812, 9.609438, 9.347625, 8.339437, 6.211625, 4.149125, 2.257313, 2.150812, 9.633062, 8.517875, 3.188062, 0.742, 5.3255, 0.944125, 1.284375, 5.493312, 7.671375, 7.230688, 1.890125, 2.250062, 5.705187, 4.651437, 4.292438, 1.011812, 0.91325, 0.267062, 9.87275, 0.033062, 5.563, 7.788938, 8.83725, 0.637563, 9.40675, 2.048938, 6.024375, 7.003812, 2.0765, 3.881063, 2.705, 2.093, 0.757125, 4.590875, 3.03925, 0.703562, 0.877625, 0.990375, 5.978, 5.797375, 4.676188, 6.63675, 0.199312, 8.421687, 2.333062, 2.875437, 2.777875, 1.554813, 0.30525, 4.100875, 7.020875, 3.602688, 7.750625, 6.528438, 3.26175, 0.506, 1.643375, 9.218125, 7.884062, 5.193687, 3.653125, 3.329875, 3.098063, 1.537938, 0.131875, 8.57325, 8.515688, 8.453563, 7.736813, 7.301938, 8.323937, 7.944375, 7.379687, 5.379875, 6.025875, 8.82925, 8.7295, 8.515688, 8.3255, 8.147312, 7.914125, 8.112625, 8.710313, 9.36075, 9.853687], [7.993312, 5.764187, 2.000187, 7.538875, 3.661438, 9.367812, 7.860938, 0.2395, 2.436063, 3.888375, 5.686812, 7.530625, 8.44525, 3.1735, 8.085, 1.194625, 4.35925, 6.635437, 8.917375, 1.505125, 5.310875, 7.668375, 8.666625, 0.291938, 3.2125, 4.97775, 7.561, 9.906813, 2.567, 6.189125, 7.616313, 1.200438, 3.885375, 7.062812, 1.754688, 5.438, 9.230875, 3.303, 5.628063, 8.740812], [7.5645, 5.981563, 4.582063, 1.97625, 9.88125, 9.5565, 8.374562, 6.682, 4.765438, 2.569313, 1.680313, 0.632875, 8.069125, 6.781625, 5.635063, 4.06075, 0.814313, 7.9315, 5.597938, 1.7605, 8.918125, 5.227188, 2.306062, 9.791688, 7.903, 6.23475, 5.303813, 5.339875, 3.91975, 2.050313, 0.940313, 9.64025, 8.924937, 7.939938, 6.935438, 5.950937, 3.510125, 1.907938, 0.315875, 6.36725]]\n",
      "['Update', 'Predicate', 'Normal']\n"
     ]
    }
   ],
   "source": [
    "pace_data = []\n",
    "data_labels = []\n",
    "with open('csvdata/plc_response.csv', 'r') as file:\n",
    "    for row in csv.reader(file):\n",
    "        data_labels += [row[0]]\n",
    "        pace_data += [[float(r) for r in row[1:]]]\n",
    "\n",
    "pace_data.reverse()\n",
    "data_labels.reverse()\n",
    "\n",
    "\n",
    "# pace_data = np.array(pace_data)\n",
    "print(pace_data)\n",
    "print(data_labels)"
   ]
  },
  {
   "cell_type": "code",
   "execution_count": 29,
   "metadata": {},
   "outputs": [
    {
     "name": "stderr",
     "output_type": "stream",
     "text": [
      "/Users/jlwatson/miniconda3/lib/python3.6/site-packages/ipykernel_launcher.py:32: UserWarning: Matplotlib is currently using module://ipykernel.pylab.backend_inline, which is a non-GUI backend, so cannot show the figure.\n"
     ]
    },
    {
     "data": {
      "image/png": "[encoded data removed]",
      "text/plain": [
       "<Figure size 468x288 with 1 Axes>"
      ]
     },
     "metadata": {
      "needs_background": "light"
     },
     "output_type": "display_data"
    }
   ],
   "source": [
    "x = [50*i for i in range(1,10)]\n",
    "\n",
    "medianprops = dict(linestyle='-', linewidth=2.5, color='black')\n",
    "\n",
    "fig1, ax1 = plt.subplots(figsize=(6.5,4))\n",
    "\n",
    "bwplot_update = ax1.boxplot(pace_data,\n",
    "                            vert=False,\n",
    "#                             patch_artist=True,\n",
    "                            labels=data_labels,\n",
    "                            showfliers=False,\n",
    "                            medianprops=medianprops)\n",
    "ax1.set_xticks(x)\n",
    "\n",
    "ax1.set_title('Pacemaker Response Time Distribution')\n",
    "ax1.set_xlabel('Response Time (us) +150ms')\n",
    "\n",
    "#ax1.set_xlim(50, 450)\n",
    "# ax1.xaxis.grid(True)\n",
    "\n",
    "# colors = ['lightgrey', 'lightgrey', 'lightgrey']\n",
    "\n",
    "# for patch, color in zip(bwplot_update['boxes'], colors):\n",
    "#     patch.set_facecolor(color)\n",
    "\n",
    "# for tick in ax1.xaxis.get_major_ticks():\n",
    "#     tick.tick1line.set_markersize(5)\n",
    "#     tick.tick2line.set_markersize(5)\n",
    "\n",
    "# ax1.set_yticklabels(data_labels[1:], rotation=60)\n",
    "fig1.tight_layout()\n",
    "fig1.show()\n",
    "\n",
    "fig1.savefig('PacemakerResponseDistribution_Update.png', dpi=150)"
   ]
  },
  {
   "cell_type": "code",
   "execution_count": null,
   "metadata": {},
   "outputs": [],
   "source": []
  }
 ],
 "metadata": {
  "kernelspec": {
   "display_name": "Python 3",
   "language": "python",
   "name": "python3"
  },
  "language_info": {
   "codemirror_mode": {
    "name": "ipython",
    "version": 3
   },
   "file_extension": ".py",
   "mimetype": "text/x-python",
   "name": "python",
   "nbconvert_exporter": "python",
   "pygments_lexer": "ipython3",
   "version": "3.6.8"
  }
 },
 "nbformat": 4,
 "nbformat_minor": 4
}
