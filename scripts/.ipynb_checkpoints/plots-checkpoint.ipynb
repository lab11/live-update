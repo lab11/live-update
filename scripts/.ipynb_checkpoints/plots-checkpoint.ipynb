{
 "cells": [
  {
   "cell_type": "code",
   "execution_count": 57,
   "metadata": {},
   "outputs": [],
   "source": [
    "%matplotlib inline\n",
    "import matplotlib.ticker as ticker\n",
    "import matplotlib.pyplot as plt\n",
    "import numpy as np\n",
    "import scipy as sp\n",
    "import csv\n",
    "import copy\n"
   ]
  },
  {
   "cell_type": "code",
   "execution_count": 11,
   "metadata": {},
   "outputs": [],
   "source": [
    "### DATA CLEANING ###\n",
    "\n",
    "# clean_data = [[],[],[],[]]\n",
    "# for data in csv.reader(open(\"csvdata/temp1.csv\")):\n",
    "#     if data[0] != 'x':\n",
    "#         clean_data[0] += [float(data[0])]\n",
    "\n",
    "# for data in csv.reader(open(\"csvdata/temp2.csv\")):\n",
    "#     if data[0] != 'x':\n",
    "#         clean_data[1] += [float(data[0])]\n",
    "        \n",
    "# for data in csv.reader(open(\"csvdata/temp3.csv\")):\n",
    "#     if data[0] != 'x':\n",
    "#         clean_data[2] += [float(data[0])]\n",
    "        \n",
    "# for data in csv.reader(open(\"csvdata/temp4.csv\")):\n",
    "#     if data[0] != 'x':\n",
    "#         clean_data[3] += [float(data[0])]\n",
    "        \n",
    "# print(clean_data)\n",
    "\n",
    "# with open('pacemaker.csv', 'w', newline='') as csvfile:\n",
    "#     datawriter = csv.writer(csvfile, delimiter=',',\n",
    "#                             quotechar='\"', quoting=csv.QUOTE_MINIMAL)\n",
    "#     datawriter.writerow(['No Update'] + clean_data[0])\n",
    "#     datawriter.writerow(['Predicate Only'] + clean_data[1])\n",
    "#     datawriter.writerow(['Update'] + clean_data[2])\n",
    "#     datawriter.writerow(['Update Splits'] + clean_data[3])"
   ]
  },
  {
   "cell_type": "code",
   "execution_count": 81,
   "metadata": {},
   "outputs": [],
   "source": [
    "pace_data = []\n",
    "data_labels = []\n",
    "with open('csvdata/pacemaker.csv', 'r') as file:\n",
    "    for row in csv.reader(file):\n",
    "        data_labels += [row[0]]\n",
    "        pace_data += [[float(d) - 150000 for d in row[1:]]]\n",
    "\n",
    "pace_data.reverse()\n",
    "data_labels.reverse()\n",
    "\n",
    "up_splits_data = [d + 150000 for d in pace_data[0]]\n",
    "# pace_data = np.array(pace_data)\n",
    "# print(pace_data)\n",
    "# print(data_labels)"
   ]
  },
  {
   "cell_type": "code",
   "execution_count": 76,
   "metadata": {},
   "outputs": [
    {
     "data": {
      "image/png": "[encoded data removed]",
      "text/plain": [
       "<Figure size 432x288 with 1 Axes>"
      ]
     },
     "metadata": {
      "needs_background": "light"
     },
     "output_type": "display_data"
    }
   ],
   "source": [
    "x = [50*i for i in range(1,10)]\n",
    "\n",
    "medianprops = dict(linestyle='-', linewidth=2.5, color='black')\n",
    "\n",
    "fig1, ax1 = plt.subplots()\n",
    "\n",
    "bwplot_update = ax1.boxplot(pace_data[1:],\n",
    "                            vert=False,\n",
    "#                             patch_artist=True,\n",
    "                            labels=data_labels[1:],\n",
    "                            showfliers=False,\n",
    "                            medianprops=medianprops)\n",
    "ax1.set_xticks(x)\n",
    "\n",
    "ax1.set_title('Pacemaker Response Time Distribution')\n",
    "ax1.set_xlabel('Response Time (us) +150ms')\n",
    "\n",
    "ax1.set_xlim(50, 450)\n",
    "# ax1.xaxis.grid(True)\n",
    "\n",
    "# colors = ['lightblue', 'lightgreen', 'yellow']\n",
    "\n",
    "# for patch, color in zip(bwplot_update['boxes'], colors):\n",
    "#     patch.set_facecolor(color)\n",
    "\n",
    "# for tick in ax1.xaxis.get_major_ticks():\n",
    "#     tick.tick1line.set_markersize(5)\n",
    "#     tick.tick2line.set_markersize(5)\n",
    "\n",
    "plt.show()"
   ]
  },
  {
   "cell_type": "code",
   "execution_count": 82,
   "metadata": {},
   "outputs": [
    {
     "name": "stderr",
     "output_type": "stream",
     "text": [
      "/Users/rtsang/anaconda3/lib/python3.7/site-packages/ipykernel_launcher.py:30: UserWarning: Matplotlib is currently using module://ipykernel.pylab.backend_inline, which is a non-GUI backend, so cannot show the figure.\n"
     ]
    },
    {
     "data": {
      "image/png": "[encoded data removed]",
      "text/plain": [
       "<Figure size 432x288 with 1 Axes>"
      ]
     },
     "metadata": {
      "needs_background": "light"
     },
     "output_type": "display_data"
    }
   ],
   "source": [
    "# x = [50*i for i in range(1,10)]\n",
    "\n",
    "medianprops = dict(linestyle='-', linewidth=2.5, color='black')\n",
    "\n",
    "fig2, ax2 = plt.subplots()\n",
    "\n",
    "bwplot_update = ax2.boxplot(up_splits_data,\n",
    "                            vert=False,\n",
    "#                             patch_artist=True,\n",
    "                            labels=[data_labels[0]],\n",
    "                            showfliers=False,\n",
    "                            medianprops=medianprops)\n",
    "# ax2.set_xticks(x)\n",
    "\n",
    "ax2.set_title('Pacemaker Response Time Distribution')\n",
    "ax2.set_xlabel('Response Time (us)')\n",
    "\n",
    "# ax2.set_xlim(75, 90)\n",
    "# ax1.xaxis.grid(True)\n",
    "\n",
    "# colors = ['lightblue', 'lightgreen', 'yellow']\n",
    "\n",
    "# for patch, color in zip(bwplot_update['boxes'], colors):\n",
    "#     patch.set_facecolor(color)\n",
    "\n",
    "# for tick in ax1.xaxis.get_major_ticks():\n",
    "#     tick.tick1line.set_markersize(5)\n",
    "#     tick.tick2line.set_markersize(5)\n",
    "\n",
    "fig2.show()"
   ]
  },
  {
   "cell_type": "code",
   "execution_count": null,
   "metadata": {},
   "outputs": [],
   "source": []
  }
 ],
 "metadata": {
  "kernelspec": {
   "display_name": "Python 3",
   "language": "python",
   "name": "python3"
  },
  "language_info": {
   "codemirror_mode": {
    "name": "ipython",
    "version": 3
   },
   "file_extension": ".py",
   "mimetype": "text/x-python",
   "name": "python",
   "nbconvert_exporter": "python",
   "pygments_lexer": "ipython3",
   "version": "3.7.6"
  }
 },
 "nbformat": 4,
 "nbformat_minor": 4
}
